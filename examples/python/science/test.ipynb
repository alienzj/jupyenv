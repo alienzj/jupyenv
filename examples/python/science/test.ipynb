{
 "cells": [
  {
   "cell_type": "code",
   "execution_count": null,
   "id": "d13cad64-62c0-4b87-b8ef-0242658baa0f",
   "metadata": {},
   "outputs": [],
   "source": [
    "import numpy as np\n",
    "import scipy as sp\n",
    "import matplotlib as mpl"
   ]
  },
  {
   "cell_type": "code",
   "execution_count": null,
   "id": "16f8a525-ab66-407d-b978-78af1ee27a4d",
   "metadata": {},
   "outputs": [],
   "source": [
    "x = np.arange(5)\n",
    "print(x)"
   ]
  },
  {
   "cell_type": "code",
   "execution_count": null,
   "id": "97728667-fbc5-4e71-a3b7-52f174309b92",
   "metadata": {},
   "outputs": [],
   "source": [
    "y_new = sp.interpolate.interp1d(x, x ** 2)(x[:-1] + 0.5)\n",
    "print(y_new)"
   ]
  },
  {
   "cell_type": "code",
   "execution_count": null,
   "id": "d03e077a-add4-472f-afba-0c1f17e0159a",
   "metadata": {},
   "outputs": [],
   "source": [
    "print(mpl.colormaps['viridis'].resampled(8)(0.56))"
   ]
  },
  {
   "cell_type": "code",
   "execution_count": 1,
   "id": "8c6a4d24-3349-425e-9983-f9b691fd570b",
   "metadata": {},
   "outputs": [],
   "source": [
    "import subprocess"
   ]
  },
  {
   "cell_type": "code",
   "execution_count": null,
   "id": "89975008-53c5-457d-a67f-7554f9ef037e",
   "metadata": {},
   "outputs": [],
   "source": [
    "subprocess.Popen(['ls'],shell=True])"
   ]
  }
 ],
 "metadata": {
  "kernelspec": {
   "display_name": "python-science-example kernel",
   "language": "python",
   "name": "python-science-example"
  },
  "language_info": {
   "codemirror_mode": {
    "name": "ipython",
    "version": 3
   },
   "file_extension": ".py",
   "mimetype": "text/x-python",
   "name": "python",
   "nbconvert_exporter": "python",
   "pygments_lexer": "ipython3",
   "version": "3.10.12"
  }
 },
 "nbformat": 4,
 "nbformat_minor": 5
}
